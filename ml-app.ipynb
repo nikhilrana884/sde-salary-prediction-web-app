{
 "cells": [
  {
   "cell_type": "code",
   "execution_count": null,
   "id": "9569eaba",
   "metadata": {},
   "outputs": [],
   "source": [
    "import pandas as pd\n",
    "import matplotlib.pyplot as plt\n",
    "\n",
    "data = pd.read_csv(\"salaries-survey.csv\")\n",
    "data.head()\n",
    "\n",
    "data = data[[\"Country\",\"YearsCodePro\" ,\"EdLevel\", \"Employment\", \"ConvertedComp\"]]\n",
    "data = data.rename({\"ConvertedComp\": \"Salary\"}, axis=1)\n",
    "data.head()\n",
    "\n",
    "data = data[data[\"Salary\"].notnull()]\n",
    "data.head()\n",
    "data.info()"
   ]
  }
 ],
 "metadata": {
  "kernelspec": {
   "display_name": "Python 3 (ipykernel)",
   "language": "python",
   "name": "python3"
  },
  "language_info": {
   "codemirror_mode": {
    "name": "ipython",
    "version": 3
   },
   "file_extension": ".py",
   "mimetype": "text/x-python",
   "name": "python",
   "nbconvert_exporter": "python",
   "pygments_lexer": "ipython3",
   "version": "3.9.12"
  }
 },
 "nbformat": 4,
 "nbformat_minor": 5
}
